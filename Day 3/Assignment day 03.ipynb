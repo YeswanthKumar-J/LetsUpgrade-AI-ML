{
 "cells": [
  {
   "cell_type": "code",
   "execution_count": 1,
   "metadata": {},
   "outputs": [
    {
     "name": "stdout",
     "output_type": "stream",
     "text": [
      "(3-1j)\n"
     ]
    }
   ],
   "source": [
    "# 1]Program to seperate 2 complex numbers\n",
    "#Let us consider 2 complex numbers on our own to perform subtraction\n",
    "a=5+2j\n",
    "b=2+3j\n",
    "c=a-b\n",
    "print(c)"
   ]
  },
  {
   "cell_type": "code",
   "execution_count": 3,
   "metadata": {},
   "outputs": [
    {
     "name": "stdout",
     "output_type": "stream",
     "text": [
      "1.4142135623730951\n"
     ]
    }
   ],
   "source": [
    "# 2]Program to find the fourth root of a number\n",
    "a=4\n",
    "b=a**(1/4)\n",
    "print(b)\n"
   ]
  },
  {
   "cell_type": "code",
   "execution_count": 8,
   "metadata": {},
   "outputs": [
    {
     "name": "stdout",
     "output_type": "stream",
     "text": [
      "Value of a after swapping = 10\n",
      "Value of b after swapping = 5\n"
     ]
    }
   ],
   "source": [
    "# 3]Program to swap 2 numbers with a temporary variable \n",
    "#Let us consider 3(a,b,c)variables with a and b has some value \n",
    "a=5 \n",
    "b=10\n",
    "c=a\n",
    "a=b\n",
    "b=c\n",
    "print(\"Value of a after swapping =\",a)\n",
    "print(\"Value of b after swapping =\",b)\n"
   ]
  },
  {
   "cell_type": "code",
   "execution_count": 17,
   "metadata": {},
   "outputs": [
    {
     "name": "stdout",
     "output_type": "stream",
     "text": [
      "Value of a after swapping = 55555\n",
      "Value of b after swapping =  11111\n"
     ]
    }
   ],
   "source": [
    "# 4]Program to swap 2 numbers without a temporary variable\n",
    "#Let us consider 2 variables a and b with some value\n",
    "a=11111\n",
    "b=55555\n",
    "a=a*b\n",
    "b=a/b\n",
    "a=a/b\n",
    "print(\"Value of a after swapping =\",int(a))\n",
    "print(\"Value of b after swapping = \",int(b))"
   ]
  },
  {
   "cell_type": "code",
   "execution_count": 15,
   "metadata": {},
   "outputs": [
    {
     "name": "stdout",
     "output_type": "stream",
     "text": [
      "The equivalent temperature in celsius is 32.22222222222222 C\n",
      "The equivalent temperature in kelvin is 305.37222222222226 K\n"
     ]
    }
   ],
   "source": [
    "# 5]Program to convert fahrenheit to celsius and kelvin\n",
    "#Let us consider a variable donationg temperature in fahrenheit\n",
    "F=90\n",
    "C=(F-32)*(5/9)\n",
    "K=(F+459.67)*(5/9)\n",
    "print(\"The equivalent temperature in celsius is\",C,\"C\")\n",
    "print(\"The equivalent temperature in kelvin is\",K,\"K\")\n"
   ]
  },
  {
   "cell_type": "code",
   "execution_count": 19,
   "metadata": {},
   "outputs": [
    {
     "name": "stdout",
     "output_type": "stream",
     "text": [
      "<class 'str'>\n",
      "<class 'int'>\n",
      "<class 'complex'>\n",
      "<class 'float'>\n",
      "<class 'tuple'>\n",
      "<class 'list'>\n"
     ]
    }
   ],
   "source": [
    "# 6]Program to demonstrate all the available data types in python\n",
    "#Let us consider a variable a\n",
    "a=\"555\"\n",
    "print(type(a))\n",
    "b=555\n",
    "print(type(b))\n",
    "c=5+2j\n",
    "print(type(c))\n",
    "d=55.55\n",
    "print(type(d))\n",
    "e=(5,8,2)\n",
    "print(type(e))\n",
    "f=[5,8,1]\n",
    "print(type(f))"
   ]
  },
  {
   "cell_type": "markdown",
   "metadata": {},
   "source": [
    "__7]Steps disscussed in the session by Dr.Darshan Ingle to create Github profile__\n",
    "\n",
    "Step 1: Create a Github account from github.com which is analogous to a gmail account creation\n",
    "\n",
    "Step 2: After the account is created and verify with the mentioned email ID\n",
    "\n",
    "Step 3: Click on New option in the left of the home page to create a new repository and name it LetsUpgrade AI-ML\n",
    "\n",
    "Step 4: Description is given as assignments and none of the options are altered and create repository option is selected\n",
    "\n",
    "Step 5: Now the corressponding notebook from the respective environments are downloaded and named into that day's assignment folder and uploaded into the created repository using the upload option\n",
    "\n",
    "Step 6: The file uploaded is ensured for public visiblity and the URL of that file is copied from the address bar\n",
    "\n",
    "Step 7: The URL is pasted in the Google form circulated for submitting the assignments"
   ]
  },
  {
   "cell_type": "code",
   "execution_count": null,
   "metadata": {},
   "outputs": [],
   "source": []
  }
 ],
 "metadata": {
  "kernelspec": {
   "display_name": "Python 3",
   "language": "python",
   "name": "python3"
  },
  "language_info": {
   "codemirror_mode": {
    "name": "ipython",
    "version": 3
   },
   "file_extension": ".py",
   "mimetype": "text/x-python",
   "name": "python",
   "nbconvert_exporter": "python",
   "pygments_lexer": "ipython3",
   "version": "3.7.6"
  }
 },
 "nbformat": 4,
 "nbformat_minor": 4
}
