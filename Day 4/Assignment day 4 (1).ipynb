{
 "cells": [
  {
   "cell_type": "code",
   "execution_count": 8,
   "metadata": {},
   "outputs": [
    {
     "name": "stdout",
     "output_type": "stream",
     "text": [
      "12.0\n"
     ]
    }
   ],
   "source": [
    "# 3]Let us consider 2 numbers a and b.\n",
    "a=24\n",
    "b=2\n",
    "c=a-b\n",
    "if c>25:\n",
    "    print(a*b)\n",
    "else:\n",
    "    print(a/b)"
   ]
  },
  {
   "cell_type": "code",
   "execution_count": 12,
   "metadata": {},
   "outputs": [
    {
     "name": "stdout",
     "output_type": "stream",
     "text": [
      "142\n",
      "2\n",
      "1154\n",
      "6082\n",
      "3134\n",
      "4354\n"
     ]
    }
   ],
   "source": [
    "# 4]Let us consider a list of 10 elements of integer values.\n",
    "L=[12,2,5,7,34,78,56,23,99,66]\n",
    "for i in L:\n",
    "    if i%2 == 0:\n",
    "        print(i*i-2)\n",
    "\n",
    "    \n"
   ]
  },
  {
   "cell_type": "code",
   "execution_count": 13,
   "metadata": {},
   "outputs": [
    {
     "name": "stdout",
     "output_type": "stream",
     "text": [
      "34\n",
      "78\n",
      "56\n",
      "23\n",
      "99\n",
      "66\n"
     ]
    }
   ],
   "source": [
    "# 5]Let us consider a list of 10 elements.\n",
    "group=[12,2,5,7,34,78,56,23,99,66]\n",
    "for j in group:\n",
    "    if j//2 > 7 :\n",
    "        print(j)"
   ]
  },
  {
   "cell_type": "code",
   "execution_count": 14,
   "metadata": {},
   "outputs": [
    {
     "name": "stdout",
     "output_type": "stream",
     "text": [
      "The addition is (8+7j)\n",
      "The difference is (-4+3j)\n",
      "The product is (2+34j)\n",
      "The quotient is (0.5499999999999999+0.6499999999999999j)\n"
     ]
    }
   ],
   "source": [
    "# 1]Operators on complex numbers\n",
    "\"\"\"Complex numbers arrives when we take square root for a negative integer.These numbers contains a real part and\n",
    "an imaginary part.\n",
    "Addition and subtraction operations of complex numbers are similar to as in real number.\n",
    "For multiplication consider complex number as a binomial and multiply each term in the first number by each term \n",
    "in the second number.\n",
    "Division operation between 2 complex numbers is performed by multipling the numerator and denominator with the conjugate\n",
    "of the denominator.\"\"\"\n",
    "import math\n",
    "#Let us consider 2 complex numbers\n",
    "a=2+5j\n",
    "b=6+2j\n",
    "c=print(\"The addition is\",a+b)\n",
    "d=print(\"The difference is\",a-b)\n",
    "e=print(\"The product is\",a*b)\n",
    "f=print(\"The quotient is\",a/b)"
   ]
  },
  {
   "cell_type": "code",
   "execution_count": 17,
   "metadata": {},
   "outputs": [
    {
     "ename": "TypeError",
     "evalue": "can't mod complex numbers.",
     "output_type": "error",
     "traceback": [
      "\u001b[1;31m---------------------------------------------------------------------------\u001b[0m",
      "\u001b[1;31mTypeError\u001b[0m                                 Traceback (most recent call last)",
      "\u001b[1;32m<ipython-input-17-2c00df43d1ef>\u001b[0m in \u001b[0;36m<module>\u001b[1;34m\u001b[0m\n\u001b[0;32m      3\u001b[0m \u001b[0ma\u001b[0m\u001b[1;33m=\u001b[0m\u001b[1;36m2\u001b[0m\u001b[1;33m+\u001b[0m\u001b[1;36m4j\u001b[0m\u001b[1;33m\u001b[0m\u001b[1;33m\u001b[0m\u001b[0m\n\u001b[0;32m      4\u001b[0m \u001b[0mb\u001b[0m\u001b[1;33m=\u001b[0m\u001b[1;36m3\u001b[0m\u001b[1;33m+\u001b[0m\u001b[1;36m3j\u001b[0m\u001b[1;33m\u001b[0m\u001b[1;33m\u001b[0m\u001b[0m\n\u001b[1;32m----> 5\u001b[1;33m \u001b[0mprint\u001b[0m\u001b[1;33m(\u001b[0m\u001b[0ma\u001b[0m\u001b[1;33m%\u001b[0m\u001b[0mb\u001b[0m\u001b[1;33m)\u001b[0m\u001b[1;33m\u001b[0m\u001b[1;33m\u001b[0m\u001b[0m\n\u001b[0m",
      "\u001b[1;31mTypeError\u001b[0m: can't mod complex numbers."
     ]
    }
   ],
   "source": [
    "\"\"\"From my research,I found that modulo and floor division operation cannot be done directly as addition like operations \n",
    "for complex numbers in python.\"\"\"\n",
    "a=2+4j\n",
    "b=3+3j\n",
    "print(a%b)"
   ]
  },
  {
   "cell_type": "code",
   "execution_count": 21,
   "metadata": {},
   "outputs": [
    {
     "name": "stdout",
     "output_type": "stream",
     "text": [
      "The remainder is  (3.552713678800501e-15+4.440892098500626e-16j)\n"
     ]
    }
   ],
   "source": [
    "\"\"\"I am not sure about this one, whether is it giving the right answer or not.The\n",
    "other way of finding the remainder is a=quotient*divisor(b) + remainder.Thus by mathematically calculating these steps\"\"\"\n",
    "a=22+2j\n",
    "b=12+2j\n",
    "c=a/b\n",
    "d=c*b\n",
    "r=a-d\n",
    "print(\"The remainder is \",r)"
   ]
  },
  {
   "cell_type": "markdown",
   "metadata": {},
   "source": [
    "___2]Range functions___\n",
    "\n",
    "syntax: range() ,which access the range of values between 2 points in the order defined by user.\n",
    "This function always access the values in the defined range in the form 0 to n-1 values.\n",
    "for example,declaring the function range(4) has values 0,1,2,3.\n",
    "\n",
    "Always range functions are used with loops.The name range itself describes that denotes something between 2 points.\n",
    "For exmaple to access numbers between 1 to 10, we can use this range() function instead of defining and declaring a list or tuple varaiable.There are 3 ways of declaring the range function as follows.\n",
    "\n",
    "1]range (n) >> values from 0 to n-1 are accessed\n",
    "\n",
    "2]range(a,b) >> values from starting point(a) to (b-1) before the ending point(b) are accessed\n",
    "\n",
    "3]range(a,b,stepsize) >> Similar to the second procedure in which the the step size is defined by the user on which order the values to be accessed."
   ]
  },
  {
   "cell_type": "code",
   "execution_count": 3,
   "metadata": {},
   "outputs": [
    {
     "name": "stdout",
     "output_type": "stream",
     "text": [
      "0 1 2 3 4 \n",
      "\n",
      "2 3 4 5 6 7 8 9 10 11 12 13 14 15 16 17 18 19 \n",
      "\n",
      "5 10 15 20 25 30 35 40 45 "
     ]
    }
   ],
   "source": [
    "#Range functions\n",
    "# TYPE 1 of declaring range()\n",
    "for i in range(5):\n",
    "    print(i,end=\" \")\n",
    "#TYPE 2 of declaring range()\n",
    "print(\"\\n\")\n",
    "for j in range(2,20):\n",
    "    print(j,end=\" \")\n",
    "#TYPE 3 of declaring range()\n",
    "print(\"\\n\")\n",
    "for k in range(5,50,5):\n",
    "    print(k,end=\" \")\n",
    "    "
   ]
  },
  {
   "cell_type": "code",
   "execution_count": null,
   "metadata": {},
   "outputs": [],
   "source": []
  }
 ],
 "metadata": {
  "kernelspec": {
   "display_name": "Python 3",
   "language": "python",
   "name": "python3"
  },
  "language_info": {
   "codemirror_mode": {
    "name": "ipython",
    "version": 3
   },
   "file_extension": ".py",
   "mimetype": "text/x-python",
   "name": "python",
   "nbconvert_exporter": "python",
   "pygments_lexer": "ipython3",
   "version": "3.7.6"
  }
 },
 "nbformat": 4,
 "nbformat_minor": 4
}
