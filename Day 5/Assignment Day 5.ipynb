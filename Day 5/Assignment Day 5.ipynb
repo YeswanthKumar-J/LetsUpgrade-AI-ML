{
 "cells": [
  {
   "cell_type": "code",
   "execution_count": 24,
   "metadata": {},
   "outputs": [
    {
     "name": "stdout",
     "output_type": "stream",
     "text": [
      "3\n",
      "5\n",
      "7\n",
      "11\n",
      "13\n",
      "17\n",
      "19\n",
      "23\n",
      "29\n",
      "31\n",
      "37\n",
      "41\n",
      "43\n",
      "47\n",
      "53\n",
      "59\n",
      "61\n",
      "67\n",
      "71\n",
      "73\n"
     ]
    }
   ],
   "source": [
    "#Question 1: Find first 20 non-even prime numbers\n",
    "count=0\n",
    "for i in range(3,100):\n",
    "    if (i%2==1 and i%3!=0 and i%5!=0 and i%7!=0 and i%11!=0 and i%13!=0) or (i==11) or (i==13) or (i==3) or (i==7) or (i==5):\n",
    "        print(i)\n",
    "        count+=1\n",
    "        if(count==20):\n",
    "            break"
   ]
  },
  {
   "cell_type": "code",
   "execution_count": 56,
   "metadata": {},
   "outputs": [
    {
     "name": "stdout",
     "output_type": "stream",
     "text": [
      "Palani\n",
      "palani\n",
      "                      Palani                      \n",
      "1\n",
      "b'Palani'\n",
      "True\n",
      "Palani\n",
      "0\n",
      "Palani\n",
      "True\n",
      "True\n",
      "True\n",
      "False\n",
      "False\n",
      "Palane\n"
     ]
    }
   ],
   "source": [
    "#Question 2: Implementing 15 Functions of a String\n",
    "a=\"Palani\"\n",
    "b=a.capitalize()\n",
    "c=a.casefold()\n",
    "d=a.center(50)\n",
    "e=a.count(a)\n",
    "f=a.encode()\n",
    "g=a.endswith(a)\n",
    "h=a.expandtabs()\n",
    "i=a.find(a)\n",
    "j=a.format()\n",
    "k=a.isalnum()\n",
    "l=a.isalpha()\n",
    "m=a.isascii()\n",
    "n=a.isdecimal()\n",
    "o=a.islower()\n",
    "p=a.replace(\"i\",\"e\")\n",
    "print(b)\n",
    "print(c)\n",
    "print(d)\n",
    "print(e)\n",
    "print(f)\n",
    "print(g)\n",
    "print(h)\n",
    "print(i)\n",
    "print(j)\n",
    "print(k)\n",
    "print(l)\n",
    "print(m)\n",
    "print(n)\n",
    "print(o)\n",
    "print(p)"
   ]
  },
  {
   "cell_type": "code",
   "execution_count": 23,
   "metadata": {},
   "outputs": [
    {
     "name": "stdout",
     "output_type": "stream",
     "text": [
      "Enter the word: listen\n",
      "enter the next word: silent\n",
      "The Strings are anagrams and not a Palindrome\n"
     ]
    }
   ],
   "source": [
    "#Question 3: To check a string is Palindrome/Anagram/None of these\n",
    "a=str(input(\"Enter the word: \").lower())\n",
    "c=input(\"Enter the next word: \".lower())\n",
    "b=a[::-1]\n",
    "if(a==b):\n",
    "    print(\"It's a Palindrome and not an anagram\")\n",
    "elif(a!=b):\n",
    "    if(sorted(a)==sorted(c)):\n",
    "        print(\"The Strings are anagrams and not a Palindrome\")\n",
    "    else:\n",
    "        print(\"Its neither a palindrome nor an anagram\")\n",
    "else:\n",
    "    print(\"Its neither a palindrome nor an anagram\")"
   ]
  },
  {
   "cell_type": "code",
   "execution_count": 64,
   "metadata": {},
   "outputs": [
    {
     "name": "stdout",
     "output_type": "stream",
     "text": [
      "Enter the String: Dr.Darshan Ingle @ AI ML Trainer\n",
      "The output String:  drdarshaningleaimltrainer\n"
     ]
    }
   ],
   "source": [
    "#Question 4: Writing User defined function to remove non-alpha characters from string and converting it to lowercase \n",
    "def convert(x):\n",
    "    x=x.lower()\n",
    "    li=list(x)\n",
    "    ns=''\n",
    "    for i in range(0,len(li)):\n",
    "        if li[i].isalpha()==True:\n",
    "            ns+=li[i]\n",
    "    print(\"The output String: \",ns)\n",
    "    \n",
    "x=str(input(\"Enter the String: \"))\n",
    "convert(x)"
   ]
  }
 ],
 "metadata": {
  "kernelspec": {
   "display_name": "Python 3",
   "language": "python",
   "name": "python3"
  },
  "language_info": {
   "codemirror_mode": {
    "name": "ipython",
    "version": 3
   },
   "file_extension": ".py",
   "mimetype": "text/x-python",
   "name": "python",
   "nbconvert_exporter": "python",
   "pygments_lexer": "ipython3",
   "version": "3.7.6"
  }
 },
 "nbformat": 4,
 "nbformat_minor": 4
}
